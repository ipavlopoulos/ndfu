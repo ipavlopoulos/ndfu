{
  "nbformat": 4,
  "nbformat_minor": 0,
  "metadata": {
    "colab": {
      "provenance": [],
      "authorship_tag": "ABX9TyNyj47uvhEARmngRawPTp1s",
      "include_colab_link": true
    },
    "kernelspec": {
      "name": "python3",
      "display_name": "Python 3"
    },
    "language_info": {
      "name": "python"
    }
  },
  "cells": [
    {
      "cell_type": "markdown",
      "metadata": {
        "id": "view-in-github",
        "colab_type": "text"
      },
      "source": [
        "<a href=\"https://colab.research.google.com/github/ipavlopoulos/ndfu/blob/main/ndfu_example.ipynb\" target=\"_parent\"><img src=\"https://colab.research.google.com/assets/colab-badge.svg\" alt=\"Open In Colab\"/></a>"
      ]
    },
    {
      "cell_type": "code",
      "execution_count": null,
      "metadata": {
        "cellView": "form",
        "id": "8IkmigQSwQI-"
      },
      "outputs": [],
      "source": [
        "#@title Load the source code\n",
        "%%capture\n",
        "! git clone https://github.com/ipavlopoulos/ndfu.git\n",
        "from ndfu.src import *\n",
        "import seaborn as sns\n",
        "import pandas as pd"
      ]
    },
    {
      "cell_type": "code",
      "source": [
        "#@title nDFU on polarised data\n",
        "#@markdown Twentyfour __polarised__ ratings (5-point likert scale)\n",
        "# twentyfour annotators\n",
        "rating = [1]*12 + [5]*12\n",
        "# 5-point likert scale\n",
        "x = pdf(rating, range(1, 6))\n",
        "\n",
        "print(f'The nDFU measure for the given rating is {dfu(x):.2f}')\n",
        "pd.Series(x).plot.bar(figsize=(8,2)); sns.despine(left=True, bottom=True)"
      ],
      "metadata": {
        "colab": {
          "base_uri": "https://localhost:8080/",
          "height": 227
        },
        "cellView": "form",
        "id": "in08k1E4wRo5",
        "outputId": "32abd966-4bbc-4cc6-ee1f-b6010e90e518"
      },
      "execution_count": 17,
      "outputs": [
        {
          "output_type": "stream",
          "name": "stdout",
          "text": [
            "The nDFU measure for the given rating is 1.00\n"
          ]
        },
        {
          "output_type": "display_data",
          "data": {
            "text/plain": [
              "<Figure size 800x200 with 1 Axes>"
            ],
            "image/png": "[encoded data removed]"
          },
          "metadata": {}
        }
      ]
    },
    {
      "cell_type": "code",
      "source": [
        "#@title The same but less polarised (by four ratings)\n",
        "x = pdf([1]*10 + [2,3,3,4]+ [5]*10, range(1, 6))\n",
        "print(f'The nDFU measure for the given rating is {dfu(x):.2f}')\n",
        "pd.Series(x).plot.bar(figsize=(8,2)); sns.despine(left=True, bottom=True)"
      ],
      "metadata": {
        "colab": {
          "base_uri": "https://localhost:8080/",
          "height": 227
        },
        "cellView": "form",
        "id": "NsMSfmpOwsoD",
        "outputId": "bcb6b214-cb71-47ae-ee9d-2ee36d2c4138"
      },
      "execution_count": 16,
      "outputs": [
        {
          "output_type": "stream",
          "name": "stdout",
          "text": [
            "The nDFU measure for the given rating is 0.90\n"
          ]
        },
        {
          "output_type": "display_data",
          "data": {
            "text/plain": [
              "<Figure size 800x200 with 1 Axes>"
            ],
            "image/png": "[encoded data removed]"
          },
          "metadata": {}
        }
      ]
    },
    {
      "cell_type": "code",
      "source": [
        "#@title A unimodal distribution\n",
        "#@markdown Most annotators said 3 or so\n",
        "x = pdf([1]*2 + [2]*4 + [3]*12+ [4]*4 + [5]*2, range(1, 6))\n",
        "print(f'The nDFU measure for the given rating is {dfu(x):.2f}')\n",
        "pd.Series(x).plot.bar(figsize=(8,2)); sns.despine(left=True, bottom=True)"
      ],
      "metadata": {
        "colab": {
          "base_uri": "https://localhost:8080/",
          "height": 227
        },
        "cellView": "form",
        "id": "s6sTQpbsn0Ya",
        "outputId": "372032c1-6ce9-4344-cf11-c024e543e10b"
      },
      "execution_count": 21,
      "outputs": [
        {
          "output_type": "stream",
          "name": "stdout",
          "text": [
            "The nDFU measure for the given rating is 0.00\n"
          ]
        },
        {
          "output_type": "display_data",
          "data": {
            "text/plain": [
              "<Figure size 800x200 with 1 Axes>"
            ],
            "image/png": "[encoded data removed]"
          },
          "metadata": {}
        }
      ]
    },
    {
      "cell_type": "code",
      "source": [],
      "metadata": {
        "id": "Qw2kFzFlpnXP"
      },
      "execution_count": null,
      "outputs": []
    }
  ]
}